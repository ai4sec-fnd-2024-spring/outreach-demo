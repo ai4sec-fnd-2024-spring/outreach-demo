{
 "cells": [
  {
   "cell_type": "markdown",
   "id": "cefec5ac-79fe-4a7d-9063-3dd09dc4dd1f",
   "metadata": {},
   "source": [
    "# Assignment 1a: Introduction to Heuristic-based Graph Search\n",
    "\n",
    "Welcome to AI4Sec! Throughout this semester you'll receive assignments like this one that serve as interactive tools for learning new techniques and applying them to complete exercises. It is very important that you ***READ*** these assignments in their entirety, as they are designed to serve as both instruction and exercise. Later in the semester, these assignments will be completed in groups, but are individual assignments for now. \n",
    "\n",
    "In this assignment, you'll be introduced to graph search by playing the game *Minesweeper* (or rather, writing code that plays Minesweeper). You'll then use a neuroevolution library, *evosax*, to create AI agents that play Minesweeper. If you don't fancy yourself as an AI person, no need to worry! This assignment assumes no prerequisite AI knowledge and is focused on showing you how to use a high-level library and high-level concepts that will come into play in later assignments (which have more security components).\n",
    "\n",
    "## On Jupyter Notebooks\n",
    "\n",
    "Jupyter notebooks (like the one you're reading now) are basically interactive Python scripts that support Markdown-formatted text and execution of individual cells of code. This provides the flexibility to evaluate code cells multiple times, execute cells in an arbitrary order, or skip the execution of cells entirely. As is the case with Python as a language, this flexibility enables intentional and unintentional abuse and can result in some fairly unintelligible code. Here are some guidelines and tips on notebook use:\n",
    "* Unless stated otherwise, it's good to assume that you should execute all code cells in order, from top to bottom.\n",
    "* Executing a cell multiple times is fine and is very useful in allowing for multiple attempts at completing a step without re-running the entire notebook.\n",
    "* You may see unusual `del` statements in provided code to help prevent/discourage global variable abuse. You are not required to follow this practice in your own code (though still avoid abuse of global variables).\n",
    "* Output from cell execution (e.g., from `print`) is saved within the notebook and can increase notebook file size to the point of becoming unstable (e.g., unable to load due to Jupyter, unable to load due to your browser, unable to upload to GitHub). Try not to output an excessive amount to avoid this.\n",
    "* Jupyter saves execution output in the notebook between sessions (if the notebook was saved), but values in memory are not saved between sessions.\n",
    "* Use `shift + enter` to execute the current cell and move to the next cell.\n",
    "* Use `ctrl + enter` to execute the current cell without moving to the next cell (i.e., doing this multiple times will repeatedly evaluate the same cell).\n",
    "\n",
    "To start the assignment, execute the following cell."
   ]
  },
  {
   "cell_type": "code",
   "execution_count": null,
   "id": "7c95d79e-40fd-4f0e-8221-b4f419d635f7",
   "metadata": {},
   "outputs": [],
   "source": [
    "!pip install matplotlib\n",
    "!pip install git+https://github.com/RobertTLange/evosax.git@main\n",
    "\n",
    "import random\n",
    "import statistics\n",
    "import matplotlib.pyplot as plt\n",
    "import matplotlib as mpl\n",
    "import evosax\n",
    "from evosax import ParameterReshaper, FitnessShaper\n",
    "import jax\n",
    "import jax.numpy as jnp\n",
    "from flax import linen as nn\n",
    "import numpy as np\n",
    "\n",
    "%matplotlib inline\n",
    "plt.rcParams['figure.figsize'] = (6.0, 6.0) # set default size of plots\n",
    "\n",
    "print('The first cell has been executed!')"
   ]
  },
  {
   "cell_type": "markdown",
   "id": "b5b56ebd-0ff8-4403-8492-f9cb013df15a",
   "metadata": {},
   "source": [
    "## Minesweeper\r\n",
    "\r\n",
    "Minesweeper is a classic computer game that commonly comes preinstalled in operating systems. If you're unfamiliar with Minesweeper, or haven't thought about it in a while, I recommend searching `minesweeper` on Google and playing the interactive game Google hosts in the search results.\r\n",
    "\r\n",
    "The game is simple:\r\n",
    "* The game board is a grid of covered cells.\r\n",
    "* Selecting a cell reveals the contents of that cell.\r\n",
    "* The goal is to reveal all cells except those containing mines.\r\n",
    "* If a cell containing a mine is selected, the game is over.\r\n",
    "* If a cell does not contain a mine, it contains a number indicating the count of adjacent/diagonal cells containing mines.\r\n",
    "* Selecting a cell with a value of 0 reveals all adjacent/diagonal cells without mines and this cascades through newly-revealed cells with a value of 0.\r\n",
    "* Player score is calculated based on the number of non-mine cells revealed.\r\n",
    "* To simplify implementation, the game board is implemented as a toroid (e.g., cells on either end of a row are treated as adjacent)\r\n",
    "\r\n",
    "### Minesweeper as Graph Search\r\n",
    "\r\n",
    "Graph search has a straightforward application to network traversal/enumeration that we'll explore in later assignments. For now, though, we'll treat Minesweeper as a graph search problem for the sake of learning graph search without getting too boring. Basically, we want to enumerate the entire game board except for the cells containing mines. We'll modify the game slightly to make it analogous to graph search: \r\n",
    "1. we start by specifying the first cell to select at the start of the game,\r\n",
    "2. we will only select cells that are adjacent/diagonal to already revealed cells.\r\n",
    "\r\n",
    "We can now say that selecting a cell is akin to visiting a node in a graph, which reveals new edges to other nodes. As edges are revealed, we discover more nodes to visit and the edges between nodes can provide information to guide our movement. Our goal, then, is to visit all nodes in the graph except for those containing mines. This goal is similar to network defense scenarios in which an attacker wants to enumerate all machines on a network except for those that would trigger the suspicions of an administrator.\r\n",
    "\r\n",
    "### The Minesweeper Environment\r\n",
    "For this assignment you'll be provided with an implementation of Minesweeper containing the modified version of the game described above. This implementation closely resembles the Gym environments popularized by OpenAI. Execute the code cell below to import the `MinesweeperGame` class, as well as a helper function for rendering the game using ASCII art, and to define an instance of a Minesweeper problem (a 2D binary array indicating the placement of mines). We'll also instantiate an environment object for use in consequent code cells."
   ]
  },
  {
   "cell_type": "code",
   "execution_count": null,
   "id": "2e7c1336-e741-4372-b2b7-1fd0046398c6",
   "metadata": {},
   "outputs": [],
   "source": [
    "from minesweeper import MinesweeperGame, render_map\n",
    "\n",
    "beginner_board = [\n",
    "    [0,0,0,0,0,1,0,0,0],\n",
    "    [0,0,0,0,0,0,0,0,0],\n",
    "    [0,0,0,0,0,0,0,0,0],\n",
    "    [0,0,0,0,0,0,0,0,1],\n",
    "    [0,0,0,1,0,1,0,0,0],\n",
    "    [0,1,0,0,0,0,0,0,1],\n",
    "    [0,0,1,0,0,0,0,1,1],\n",
    "    [0,0,0,0,0,0,0,1,0],\n",
    "    [0,0,0,0,0,0,0,0,0]]\n",
    "\n",
    "env = MinesweeperGame(beginner_board, enforce_reachability=True)"
   ]
  },
  {
   "cell_type": "markdown",
   "id": "3bd07c72-cdab-4b04-8f28-1c13f52e892f",
   "metadata": {},
   "source": [
    "Notice that we passed a named argument `enforce_reachability` in the previous cell. Setting this value to `True` means that score will only be calculated using the percentage of *reachable* non-mine cells.\n",
    "\n",
    "In the next cell, we'll call `env.reset()` to receive three variables:\n",
    "* `obs` - a list of observations, each corresponding to an available action\n",
    "* `score` - the score of the game, calculated as the portion of revealed non-mine cells (a float between 0 and 1)\n",
    "* `done` - a boolean value of `True` if the game is complete or `False` otherwise\n",
    "\n",
    "We'll also visualize the start of the game as a human Minesweeper player would see it. Note that because we're using a modified version of Minesweeper, the game begins having already selected the cell at a predetermined starting location (by default, the middle of the map)."
   ]
  },
  {
   "cell_type": "code",
   "execution_count": null,
   "id": "dd1b0082-2769-4787-af44-72b4c4a141e5",
   "metadata": {},
   "outputs": [],
   "source": [
    "obs, score, done = env.reset()\n",
    "\n",
    "print(f'Available actions: {len(obs)}')\n",
    "print(f'Score: {score}')\n",
    "print(f'Done? {done}')\n",
    "\n",
    "print('\\nInitial game state')\n",
    "render_map(env.player_map, compact=False)\n",
    "\n",
    "del env, obs, score, done # To discourage haphazard copypasta"
   ]
  },
  {
   "cell_type": "markdown",
   "id": "972e69fd-9dcd-44d5-b561-12e7a3a9cd8a",
   "metadata": {},
   "source": [
    "When a cell is selected and new reachable locations are revealed, an action for selecting the newly-reachable cell is added to an internal list within the `MinesweeperGame` instance. We can infer the number of available actions by the length of `obs`. To make an action, we select the index of the action we'd like to make and pass that index to a `step` function, which makes the action and returns updated `obs`, `score`, and `done` values. This interface and representation isn't terribly human-readable, but it allows us to define strategies for playing the game with relative ease. For example, because the internal list of possible actions maintains the order in which actions became available, we can implement a breadth-first graph search of the minesweeper map by always selecting actions index `0`. Similarly, depth-first graph search can be implemented by always selecting the last available index.\n",
    "\n",
    "The following cell demonstrates a function that plays a game using an agent that selects random actions. You are encouraged to execute this cell multiple times in order to observe the various-quality solutions this simple agent is able to produce."
   ]
  },
  {
   "cell_type": "code",
   "execution_count": null,
   "id": "c5af6dab-0ec2-4bbd-aca4-5a56f5037e2b",
   "metadata": {},
   "outputs": [],
   "source": [
    "def random_agent(game_map, **kwargs):\n",
    "    env = MinesweeperGame(game_map, **kwargs)\n",
    "    obs, score, done = env.reset()\n",
    "    while not done:\n",
    "        action = random.randrange(len(obs)) # select a random action\n",
    "        obs, score, done = env.step(action)\n",
    "    return score, env.player_map\n",
    "\n",
    "# Evalute our simple agent\n",
    "score, final_map = random_agent(beginner_board, enforce_reachability=True)\n",
    "\n",
    "print(f'Final agent score: {score}')\n",
    "print('Final game state:')\n",
    "render_map(final_map, compact=False)\n",
    "\n",
    "del score, final_map # To discourage haphazard copypasta"
   ]
  },
  {
   "cell_type": "markdown",
   "id": "5e413551-39a8-457c-8448-3774008906aa",
   "metadata": {},
   "source": [
    "## Random-Action Agent\n",
    "Observing individual games played by a random-action agent is typically interesting, but to gain meaningful insight on the performance of a stochastic agent such as this, we must sample performance many times. Execute the following cell to sample the performance of the random-action agent."
   ]
  },
  {
   "cell_type": "code",
   "execution_count": null,
   "id": "66c99074-d6b7-4ced-b0f4-419ccc4f30d7",
   "metadata": {},
   "outputs": [],
   "source": [
    "def sample_random_agent(samples, game_map, **kwargs):\n",
    "    scores = []\n",
    "    best_score = 0\n",
    "    best_solution = None\n",
    "    \n",
    "    for _ in range(samples):\n",
    "        score, solution = random_agent(game_map, **kwargs)\n",
    "        if best_solution == None or score > best_score:\n",
    "            best_solution = solution\n",
    "            best_score = score\n",
    "        scores.append(score)\n",
    "    return scores, best_solution\n",
    "\n",
    "beginner_scores, best_solution = sample_random_agent(5000, beginner_board, enforce_reachability=True)\n",
    "\n",
    "print(f'Minimum score: {min(beginner_scores)}')\n",
    "print(f'Average score (stdev): {statistics.mean(beginner_scores)} ({statistics.stdev(beginner_scores)})')\n",
    "print(f'Maximum score: {max(beginner_scores)}')\n",
    "print('Best final game state')\n",
    "render_map(best_solution, compact=False)\n",
    "\n",
    "del best_solution # To discourage haphazard copypasta"
   ]
  },
  {
   "cell_type": "markdown",
   "id": "d3e6e0b6-333e-4e22-b2e0-4992834b70d4",
   "metadata": {},
   "source": [
    "****Thought Exercise:**** Consider whether or not you expected the performance of the random-action agent. Do you expect to observe the same behavior on more difficult problem instances? \n",
    "\n",
    "Execute the following cell to explore the performance of the random-action agent on a problem instance of intermediate difficulty."
   ]
  },
  {
   "cell_type": "code",
   "execution_count": null,
   "id": "dc1f6ca7-5cc5-4030-bd1a-b829f3d759fe",
   "metadata": {},
   "outputs": [],
   "source": [
    "intermediate_board = [\n",
    "    [0,0,1,0,0,0,0,0,0,0,0,0,0,0,0,0],\n",
    "    [0,0,0,1,0,0,0,0,0,0,0,0,1,0,0,0],\n",
    "    [1,1,0,1,0,0,0,1,0,0,1,0,0,0,0,1],\n",
    "    [0,0,0,0,0,0,0,0,0,1,0,0,0,0,0,0],\n",
    "    [0,0,0,0,0,1,0,0,0,0,0,0,0,0,0,1],\n",
    "    [1,0,0,0,0,0,0,0,0,0,0,0,0,0,1,0],\n",
    "    [0,0,0,0,0,0,0,1,0,0,0,1,0,0,0,1],\n",
    "    [0,0,0,0,0,0,0,0,0,0,0,0,0,0,0,0],\n",
    "    [0,1,0,0,0,0,0,0,0,0,0,0,0,1,0,0],\n",
    "    [0,0,0,1,0,1,0,0,0,0,0,0,0,1,0,0],\n",
    "    [0,0,0,0,1,1,0,0,0,1,0,0,1,0,0,0],\n",
    "    [0,0,0,0,0,0,0,0,0,0,0,0,1,0,1,0],\n",
    "    [0,0,1,0,0,0,0,0,0,0,0,1,1,0,0,0],\n",
    "    [1,0,0,0,0,1,1,0,0,0,0,0,0,1,0,0],\n",
    "    [1,0,0,0,1,0,0,0,1,0,0,0,0,0,0,0],\n",
    "    [0,1,0,0,0,0,0,0,0,0,0,0,0,0,0,1]\n",
    "]\n",
    "\n",
    "intermediate_scores, best_solution = sample_random_agent(5000, intermediate_board, enforce_reachability=True)\n",
    "\n",
    "print(f'Minimum score: {min(intermediate_scores)}')\n",
    "print(f'Average score (stdev): {statistics.mean(intermediate_scores)} ({statistics.stdev(intermediate_scores)})')\n",
    "print(f'Maximum score: {max(intermediate_scores)}')\n",
    "print('Best final game state')\n",
    "render_map(best_solution, compact=False)\n",
    "\n",
    "del best_solution # To discourage haphazard copypasta"
   ]
  },
  {
   "cell_type": "markdown",
   "id": "2e76b937-43e8-4307-be69-705a725281d8",
   "metadata": {},
   "source": [
    "We expect that you observe meaningfully different mean and maximum scores with a standard deviation that alludes to a significantly different distribution of scores. In other words, the random-action agent probably had a more difficult time with the harder map and we can begin to see the waning effectiveness of this simple strategy. Visualize the distribution of scores produced by the random-action agent on different problem difficulties by executing the next cell. \n",
    "\n",
    "****Thought Exercise:**** Consider whether or not you think the maximum score observed in each difficulty is an outlier or representative of the typical performance of the random-action agent."
   ]
  },
  {
   "cell_type": "code",
   "execution_count": null,
   "id": "3a509fb0-cc68-4fa8-b979-5cc391ef3c42",
   "metadata": {},
   "outputs": [],
   "source": [
    "# visualize random agent data with boxplot\n",
    "fig, ax = plt.subplots()\n",
    "boxplot = ax.boxplot([beginner_scores, intermediate_scores], labels=['Beginner', 'Intermediate'])\n",
    "ax.set_title('Random-Action Agent Performance')\n",
    "ax.set_xlabel('Minesweeper Difficulty')\n",
    "ax.set_ylabel('Score')\n",
    "plt.ylim(bottom=0.0, top=1.0)\n",
    "plt.show()"
   ]
  },
  {
   "cell_type": "markdown",
   "id": "c66d2ac7-b7c1-4a84-bca6-e3c567c5522a",
   "metadata": {},
   "source": [
    "Now that we've explored the simple strategy of randomly selecting actions to solve Minesweeper, consider the following:\n",
    "1. Randomly selecting actions is a powerful strategy for beginner Minesweeper. In fact, it's probably a waste of energy/effort to implement a more complex solver if all you have are beginner problem instances.\n",
    "2. The likelihood of encountering a decent solution by randomly selecting actions seems to decrease as difficulty increases.\n",
    "3. The performance of the random-action agent, regardless of quality, is inherently inconsistent due to the agent being stochastic.\n",
    "\n",
    "To address points 2 and 3, we'll begin by creating agents with more consistent performance. To do this, we'll implement agent strategies that are deterministic. Note, however, that this requires a trade off: deterministic agents need only play a single game\\* of Minesweeper to yield their best possible solution to a problem instance, but it can often be the case that the agent strategy needs greater complexity to compete with the random-action agent. To begin, we'll implement simple deterministic agents employing breadth-first and depth-first search.\n",
    "\n",
    "\\* Provided the game/environment/problem is also deterministic, which is true in the case of our Minesweeper environment.\n",
    "\n",
    "## Exercise 0\n",
    "In the following cells, implement breadth-first and depth-first search agents using the provided partial functions. Then, evaluate the cells calling your functions to assess the performance of your agents.\n",
    "\n",
    "***Hint:*** Your functions should look similar to the `random_agent` function. An approach for implementing breadth-first and depth-first search is described in the earlier text of this notebook."
   ]
  },
  {
   "cell_type": "code",
   "execution_count": null,
   "id": "05c0be9a-c3a7-4850-92aa-b2cb50dcd30b",
   "metadata": {},
   "outputs": [],
   "source": [
    "def breadth_first_agent(game_map, **kwargs):\n",
    "    env = MinesweeperGame(game_map, **kwargs)\n",
    "    obs, score, done = env.reset()\n",
    "    # Complete the following code\n",
    "    pass\n",
    "    \n",
    "    return score, env.player_map\n",
    "\n",
    "score, solution = breadth_first_agent(beginner_board, enforce_reachability=True)\n",
    "\n",
    "mine = True in ['*' in seq for seq in solution]\n",
    "if not mine and score < 1.0:\n",
    "    print('Game did not play until completion. Please check your agent.')\n",
    "else:\n",
    "    print(f'BFS Agent Score: {score}')\n",
    "    print('BFS final game state:')\n",
    "    render_map(solution, compact=False)"
   ]
  },
  {
   "cell_type": "code",
   "execution_count": null,
   "id": "0c8663e8-d67b-478a-b5f6-6d0d0bb81a7a",
   "metadata": {},
   "outputs": [],
   "source": [
    "def depth_first_agent(game_map, **kwargs):\n",
    "    env = MinesweeperGame(game_map, **kwargs)\n",
    "    obs, score, done = env.reset()\n",
    "    # Complete the following code\n",
    "    pass\n",
    "    \n",
    "    return score, env.player_map\n",
    "\n",
    "score, solution = depth_first_agent(beginner_board, enforce_reachability=True)\n",
    "\n",
    "mine = True in ['*' in seq for seq in solution]\n",
    "if not mine and score < 1.0:\n",
    "    print('Game did not play until completion. Please check your agent.')\n",
    "else:\n",
    "    print(f'DFS Agent Score: {score}')\n",
    "    print('DFS final game state:')\n",
    "    render_map(solution, compact=False)"
   ]
  },
  {
   "cell_type": "code",
   "execution_count": null,
   "id": "2bbbed91-454a-4453-9c88-0c3f127f62f3",
   "metadata": {},
   "outputs": [],
   "source": [
    "bfs_beginner, _ = breadth_first_agent(beginner_board, enforce_reachability=True)\n",
    "bfs_intermediate, _ = breadth_first_agent(intermediate_board, enforce_reachability=True)\n",
    "\n",
    "dfs_beginner, _ = depth_first_agent(beginner_board, enforce_reachability=True)\n",
    "dfs_intermediate, _ = depth_first_agent(intermediate_board, enforce_reachability=True)\n",
    "\n",
    "print('\\t\\tBeginner\\tIntermediate')\n",
    "print(f'BFS:\\t\\t{bfs_beginner:.6f}\\t{bfs_intermediate:.6f}')\n",
    "print(f'DFS:\\t\\t{dfs_beginner:.6f}\\t{dfs_intermediate:.6f}')\n",
    "print(f'Random (avg):\\t{statistics.mean(beginner_scores):.6f}\\t{statistics.mean(intermediate_scores):.6f}')\n",
    "print(f'Random (max):\\t{max(beginner_scores):.6f}\\t{max(intermediate_scores):.6f}')"
   ]
  },
  {
   "cell_type": "markdown",
   "id": "a9e455f2-812e-40e5-becd-6e32c71f9a88",
   "metadata": {},
   "source": [
    "## Heuristic Search\n",
    "\n",
    "The strategies explored so far have been very simple: pick the newest, oldest, or a random action at each step of the game. We'll begin to develop more complex strategies by developing heuristics. Simply put, a heuristic (in our context) is a function we use to determine which actions we want to make most given some kind of information regarding each action. For our uses, this function typically returns a value representing how much we want to make each action and we select the action with the highest value.\n",
    "\n",
    "To put this in context of regular life, a heuristic is akin to a rule of thumb you might use to guide how you approach various problems. Imagine you're trying to get from one place to another via car, but you have to pick when to turn without the assistance of GPS navigation. How would you navigate? If you know the general direction of your destination, you may employ a heuristic of making turns that send you in that direction. If you had a limited-function GPS that only gave you the distance to your destination as measured in a straight line, you might turn in directions that tend to decrease that distance and use that distance as a heuristic.\n",
    "\n",
    "Back to Minesweeper though: we can express the strategies we've explored thus far as heuristics. Let's say we select the action with the highest value. Breadth-first search can be represented by a heuristic that returns the number of steps since an action first became available (i.e., older actions have a higher value). Depth-first search can be expressed by a heuristic that returns the step count when an action became available (i.e., newer actions have a higher value). And the random-action agent can be expressed by a heuristic that simply returns random numbers for each action at each timestep. In all of these cases, however, the heuristic in question doesn't utilize any information about the state of the game or the cells near where an action would select.\n",
    "\n",
    "### Minesweeper Observations\n",
    "\n",
    "In order to provide our heuristics with information a human would use to play Minesweeper, we'll make use of the observations returned by our environment. As stated previously, each available action has a corresponding observation. Each observation contains information about the cells surrounding the location we're considering selecting. Specifically, the cells in a 5x5 box centered on the cell we're considering, though excluding the center. Recall that the game board is toroidal, so the included cells will wrap around the boundaries as appropriate. The observation consists of two flattened arrays: the first containing the number in a revealed cell divided by the maximum value of 8 (or 0 if the cell is covered), the second is a Boolean mask indicating if a cell is visible (`1` if a cell is visible and `0` otherwise). This should be sufficient information for an agent to reason about whether or not a cell we're considering is likely to contain a mine. Execute the following cell for an example of what observations look like."
   ]
  },
  {
   "cell_type": "code",
   "execution_count": null,
   "id": "ec4495bd-964a-45a4-9a72-ce866ef3fcea",
   "metadata": {},
   "outputs": [],
   "source": [
    "env = MinesweeperGame(beginner_board, enforce_reachability=True)\n",
    "obs, score, done = env.reset()\n",
    "print(f'Number of observations/actions: {len(obs)}')\n",
    "print(f'Observation #0: {obs[0]}')"
   ]
  },
  {
   "attachments": {
    "c0f509b8-b2ae-4cf8-84fb-349e5d94bb1b.png": {
     "image/png": "[encoded data removed]"
    }
   },
   "cell_type": "markdown",
   "id": "d869c9ba-b524-4d6c-891a-5cb33690bc62",
   "metadata": {},
   "source": [
    "## Neuroevolution of Heuristic Functions\n",
    "\n",
    "In this assignment, we'll be using neural networks as heuristics to play Minesweeper. It's not necessary to understand the inner workings of neural networks and it's sufficient, for this assignment, to understand that a neural network is basically a linear algebra equation whose behavior can change by tuning numeric constants. We'll thus use an optimization technique called neuroevolution to tune the numeric constants in our network. This linear algebra equation will take as input a matrix of values representing the observations of an action and output a single value we'll use as our score. We then make the action that generated the highest score after evaluating all current available actions.\n",
    "\n",
    "![image.png](attachment:c0f509b8-b2ae-4cf8-84fb-349e5d94bb1b.png)\n",
    "\n",
    "### Neural Network Setup\n",
    "To begin, we'll first define the rough architecture of our network.  We'll be using a simple network architecture called a multi-layered Perceptron (MLP) with rectified Linear unit (ReLU) activation functions. It's not overly important to understand how that architecture works, but you are welcome to learn more by searching the aforementioned terms if interested. It is worth knowing, however, that there are hyperparameters describing the size of each network layer, the number of internal layers, and the number of outputs that affect the number of network parameters and the effectiveness of our optimization. It's also worth being aware that we're using the *JAX* framework, and its derivative tools/libraries *flax* and *linen*. JAX is a relatively new machine learning library developed by Google that offers JIT compilation, hardware acceleration, with features that simplify application of neuroevolution techniques, the implementation of vectorized operations, and parallelization across multiple hardware accelerators."
   ]
  },
  {
   "cell_type": "code",
   "execution_count": null,
   "id": "1b532c58-307d-4f60-b6b4-abbc2ad3d23e",
   "metadata": {},
   "outputs": [],
   "source": [
    "class MLP(nn.Module):\n",
    "    \"\"\"Simple ReLU MLP\"\"\"\n",
    "\n",
    "    num_hidden_units: int\n",
    "    num_hidden_layers: int\n",
    "    num_output_units: int\n",
    "\n",
    "    @nn.compact\n",
    "    def __call__(self, x):\n",
    "        for l in range(self.num_hidden_layers):\n",
    "            x = nn.Dense(features=self.num_hidden_units)(x)\n",
    "            x = nn.relu(x)\n",
    "        x = nn.Dense(features=self.num_output_units)(x)\n",
    "        return x"
   ]
  },
  {
   "cell_type": "markdown",
   "id": "ef61dd14-4a8b-4102-8805-6b52e6d2d243",
   "metadata": {},
   "source": [
    "In the cell below, we'll define a function to play Minesweeper with a neural network. We will pass an instantiation of our `MLP` class for the `network` argument, but otherwise you should be able to follow the function. You may notice that we flatten the per-action observation into a 1-dimensional array before passing it as input to our neural network. This is necessary for MLP layers and results in per-action observations of 1 dimension and containing 48 elements (a number you may see appear in later code)."
   ]
  },
  {
   "cell_type": "code",
   "execution_count": null,
   "id": "0a6e1b94-9630-45a2-bff8-c5e76de8283d",
   "metadata": {},
   "outputs": [],
   "source": [
    "def neural_network_agent(game_map, network, params, enforce_reachability=True):\n",
    "    env = MinesweeperGame(game_map, enforce_reachability=enforce_reachability)\n",
    "    obs, score, done = env.reset()\n",
    "    while not done:\n",
    "        # evaluate network with provided parameters for each action\n",
    "        action, best = None, None\n",
    "        for action_idx, action_obs in enumerate(obs):\n",
    "            action_score = network.apply(params, action_obs.flatten())[0]\n",
    "            # select action with highest score\n",
    "            if action == None or action_score > best:\n",
    "                action = action_idx\n",
    "                best = action_score\n",
    "        obs, score, done = env.step(action)\n",
    "    return score, env.player_map"
   ]
  },
  {
   "cell_type": "markdown",
   "id": "90e098a1-9886-4b81-b7d6-86447becebc4",
   "metadata": {},
   "source": [
    "### evosax\n",
    "\n",
    "*evosax* is a library of JAX-based evolution strategies for neuroevolution. evosax contains a plethora of classic and modern optimization algorithms (called strategies) applicable to neuroevolution. Notably, this library introduces a common API usage that allows users to easily swap optimization strategies without needing to retool their high-level code. The API uses an `ask-eval-tell` loop (discussed in Deacon's lecture `AI for Uninitiated Colleagues` on 01/25/24) and a class for each optimization algorithm that implements the `ask` and `tell` methods in whatever way is appropriate for a given algorithm. In this way, a user can simply change which strategy is instantiated and the underlying code implementing the `ask-eval-tell` loop need not be modified. Neat!\n",
    "\n",
    "To overcome an incompatibility of evosax and our `neural_network_agent` function, we'll begin this section by defining a function that reorganizes the population of parameters generated by evosax. Execute the following cell to define this function."
   ]
  },
  {
   "cell_type": "code",
   "execution_count": null,
   "id": "2d67abb0-b249-4ec2-a0cf-2a71833afa5c",
   "metadata": {},
   "outputs": [],
   "source": [
    "def evosax_population_reformat(reshaped_params):\n",
    "    pop_size = None\n",
    "    for layer_key, layer in reshaped_params['params'].items():\n",
    "        for param_key, params in layer.items():\n",
    "            if pop_size == None:\n",
    "                pop_size = params.shape[0]\n",
    "            assert pop_size == params.shape[0], f'Encountered unexpected shape of {params.shape} at layer {layer_key}, given population size {pop_size}'\n",
    "    population = [{'params': dict()} for _ in range(pop_size)]\n",
    "    for ind_idx in range(pop_size):\n",
    "        for layer_key, layer in reshaped_params['params'].items():\n",
    "            population[ind_idx]['params'][layer_key] = {param_key: params[ind_idx] for param_key, params in layer.items()}\n",
    "    return population"
   ]
  },
  {
   "cell_type": "markdown",
   "id": "7dbd28e6-d75b-4ad3-9d55-354317e3dd32",
   "metadata": {},
   "source": [
    "Now we'll define a function to perform a neuroevolution search. This function should implement the `ask-eval-tell` loop, utilize the `neural_network_agent` function defined previously, and return the best\n",
    "`neural_network_agent` As a brief reminder of the `ask-eval-tell` loop:\n",
    "* `ask` - generate multiple sets of neural network parameters as appropriate for the optimization strategy in use\n",
    "* `eval` - evaluate the performance of each set of neural network parameters (this step is application-specific and thus not implemented by evosax)\n",
    "* `tell` - use the performances of each set of neural network parameters to update internal mechanisms used to generate new parameters in the next `ask` step\n",
    "\n",
    "The function we define for neuroevolution search should implement the `ask-eval-tell` loop. It's important to note that while we are providing this function to you, as it would be unreasonable to expect you to create it yourself, you should study it and understand what is happening from a high level. We'll elaborate on the input parameters momentarily, but try to infer their purpose and function for yourself first."
   ]
  },
  {
   "cell_type": "code",
   "execution_count": null,
   "id": "103943c7-74a9-492d-8ea9-16d62453f146",
   "metadata": {},
   "outputs": [],
   "source": [
    "def neuroevolution_search(game_map, strategy_cls, num_hidden_units, num_hidden_layers, population_size, generations, seed=42, enforce_reachability=True):\n",
    "    # Seed rng (hard requirement in JAX)\n",
    "    rng = jax.random.PRNGKey(seed)\n",
    "\n",
    "    # Instantiate the model callables and get a placeholder pytree\n",
    "    network = MLP(num_hidden_units=num_hidden_units, num_hidden_layers=num_hidden_layers, num_output_units=1)\n",
    "    policy_params = network.init(rng, jnp.zeros(48,)) # input data size fixed by problem\n",
    "\n",
    "    # Instantiate the reshape helper & get total number of parameters to reshape\n",
    "    param_reshaper = ParameterReshaper(policy_params)\n",
    "\n",
    "    # Instantiate the evolution strategy instance\n",
    "    strategy = strategy_cls(num_dims=param_reshaper.total_params, popsize=100)\n",
    "    \n",
    "    # Get default hyperparameters (e.g. lrate, etc.)\n",
    "    es_params = strategy.default_params\n",
    "    \n",
    "    # Initialize the strategy\n",
    "    state = strategy.initialize(rng, es_params)\n",
    "    \n",
    "    # Define fitnes shaper to maximize fitness\n",
    "    fit_shaper = FitnessShaper(centered_rank=True, z_score=False, w_decay=0.1, maximize=True)\n",
    "    \n",
    "    # JIT compile ask and tell steps\n",
    "    ask = jax.jit(strategy.ask)\n",
    "    tell = jax.jit(strategy.tell)\n",
    "    \n",
    "    best_score, best_solution, best_agent = None, None, None\n",
    "\n",
    "    # loop for desired number of generations (+1 to account for initial generation being akin to random search)\n",
    "    for gen in range(generations+1):\n",
    "        # Ask for a set of candidate solutions to evaluate\n",
    "        x, state = ask(rng, state, es_params)\n",
    "        \n",
    "        # Evaluate population\n",
    "        reshaped_params = param_reshaper.reshape(x)\n",
    "        population = evosax_population_reformat(reshaped_params)\n",
    "        fitness = []\n",
    "        for params in population:\n",
    "            score, solution = neural_network_agent(game_map, network, params, enforce_reachability=enforce_reachability)\n",
    "            fitness.append(score)\n",
    "            if best_score == None or score > best_score:\n",
    "                best_score = score\n",
    "                best_solution = solution\n",
    "                best_agent = params\n",
    "        \n",
    "        gen_best =  max(fitness)\n",
    "        gen_avg = statistics.mean(fitness)\n",
    "        print(f'generation {gen}/{generations}\\tbest overall: {best_score:.6f}\\tgen best: {gen_best:.6f}\\tgen avg: {gen_avg:.6f}')\n",
    "        shaped_fitness = fit_shaper.apply(x, np.array(fitness))\n",
    "        \n",
    "        # Tell performance of candidate solutions to strategy\n",
    "        state = tell(x, shaped_fitness, state, es_params)\n",
    "    return best_score, best_solution, best_agent"
   ]
  },
  {
   "cell_type": "markdown",
   "id": "34ce88de-2edd-4274-9df0-1fd74fa86f24",
   "metadata": {},
   "source": [
    "Now we'll call our `neuroevolution_search` function. As input, we pass the following hyperparameters:\n",
    "* `game_map` - game map instance as in other similar functions.\n",
    "* `strategy_cls` - the evosax strategy class we'll use for optimization (e.g., `evosax.CMA_ES`). See evosax documentation for other available strategies.\n",
    "* `num_hidden_units` - size of internal neural network layers.\n",
    "* `num_hidden_layers`- number of internal neural network layers.\n",
    "* `population_size` - number of parameter sets generated in each generation of our search.\n",
    "* `generations` - number of generations to search (note: an extra generation is added within the function)\n",
    "* `seed` - RNG seed for JAX.\n",
    "* `enforce_reachability` - calculates score based only on cells reachable from the starting location if `True`.\n",
    "\n",
    "Calling this function will return the best score, the final state of the game corresponding with that score, and the parameters of the agent that generated the score. You'll be asked to use the agent parameters again later, so make note of the variable and take care not to accidentally overwrite it in later cells. *Evaluating the next cell may take a little time, but it should generate output during execution.*"
   ]
  },
  {
   "cell_type": "code",
   "execution_count": null,
   "id": "a33735ce-e367-4b9c-a98d-a4ba6627a4fa",
   "metadata": {},
   "outputs": [],
   "source": [
    "ne_beginner_results = neuroevolution_search(game_map=beginner_board, strategy_cls=evosax.CMA_ES, \n",
    "                                            num_hidden_units=48, num_hidden_layers=2, \n",
    "                                            population_size=100, generations=10, \n",
    "                                            seed=42, enforce_reachability=True\n",
    "                                           )\n",
    "ne_beginner, solution, ne_beginner_agent = ne_beginner_results\n",
    "\n",
    "print('\\nNeuroevolution agent final game state:')\n",
    "render_map(solution, compact=False)\n",
    "\n",
    "print('\\n\\t\\tBeginner\\tIntermediate')\n",
    "print(f'BFS:\\t\\t{bfs_beginner:.6f}\\t{bfs_intermediate:.6f}')\n",
    "print(f'DFS:\\t\\t{dfs_beginner:.6f}\\t{dfs_intermediate:.6f}')\n",
    "print(f'Random (avg):\\t{statistics.mean(beginner_scores):.6f}\\t{statistics.mean(intermediate_scores):.6f}')\n",
    "print(f'Random (max):\\t{max(beginner_scores):.6f}\\t{max(intermediate_scores):.6f}')\n",
    "print(f'NE Agent:\\t{ne_beginner:.6f}\\tNA')"
   ]
  },
  {
   "cell_type": "markdown",
   "id": "664b2dc3-8ef5-4252-948c-e8a6b1a07bdf",
   "metadata": {},
   "source": [
    "**Note**: for the following exercises, it's important to note that we have no set expectations or requirements about which algorithms outperform one another. For example, it's entirely possible that the best game of the random-action agent outperforms the best neuroevolution agent on a given problem.\n",
    "\n",
    "## Exercise 1\n",
    "In the following cell, implement the necessary code to perform a neuroevolution search using the `intermediate_board`. Save the best agent for analysis in a later task. Visualize the final board state of the best agent and print the performance results of all algorithms (i.e., replace the `NA` string from the last code cell). Feel free to use code from earlier in the notebook, but be careful not to accidentally overwrite variables."
   ]
  },
  {
   "cell_type": "code",
   "execution_count": null,
   "id": "41a9d929-ff95-46e1-8993-35cbdba3f921",
   "metadata": {},
   "outputs": [],
   "source": [
    "# implement Exercise 1 code here\n",
    "pass"
   ]
  },
  {
   "cell_type": "markdown",
   "id": "f4e5b77d-5cc3-4b0d-b96d-10943767e17c",
   "metadata": {},
   "source": [
    "## Exercise 2\n",
    "The following cell defines an expert-difficulty Minesweeper problem instance. Implement the necessary code to assess the performance of the `random-action` agent, across 5,000 games, on this problem and (in a separate cell) visualize the distribution of results using a boxplot. This boxplot should contain the performance distributions of the `random-action` agent on the `beginner`, `intermediate`, and `expert` problem instances. You are encouraged to reuse the boxplot visualization code from earlier in the notebook."
   ]
  },
  {
   "cell_type": "code",
   "execution_count": null,
   "id": "22032ed2-64b9-400c-ab2a-6c3efcd8215f",
   "metadata": {},
   "outputs": [],
   "source": [
    "expert_board = [\n",
    "    [1,0,0,0,0,0,0,0,1,0,1,0,0,0,0,1,1,1,0,0,0,0,0,0,0,0,0,0,1,1],\n",
    "    [0,0,1,0,1,0,0,0,0,1,0,0,0,0,0,0,1,1,0,0,1,0,0,0,0,0,0,0,0,0],\n",
    "    [0,0,0,0,0,0,1,0,0,1,0,0,1,0,0,1,0,0,0,0,0,0,1,1,0,0,0,0,0,0],\n",
    "    [0,0,0,0,1,1,0,0,1,0,0,1,0,1,0,1,0,0,0,0,0,0,1,0,0,0,0,0,0,1],\n",
    "    [0,1,0,0,0,0,0,0,0,1,0,0,0,0,0,1,0,0,1,0,0,0,0,0,0,0,0,0,0,0],\n",
    "    [0,1,0,1,0,0,0,0,0,1,0,0,0,0,1,0,0,0,0,0,1,0,0,0,0,0,0,0,0,0],\n",
    "    [0,1,0,0,0,1,1,0,0,0,0,0,0,0,0,0,1,0,1,0,1,0,0,0,0,0,0,0,0,0],\n",
    "    [0,0,0,0,0,0,0,0,0,1,0,0,0,1,0,0,0,0,1,0,1,0,0,1,0,1,0,1,1,0],\n",
    "    [0,0,0,0,0,0,1,0,0,0,0,0,0,0,1,0,0,0,0,0,0,0,0,0,0,0,0,0,0,1],\n",
    "    [0,0,1,0,0,0,1,0,1,0,0,0,0,0,0,0,0,1,0,0,0,0,0,0,0,1,1,0,0,0],\n",
    "    [0,1,1,0,0,0,0,1,0,0,1,0,0,0,0,0,0,1,1,0,1,0,1,0,0,0,0,0,0,0],\n",
    "    [0,0,0,0,0,0,1,0,1,0,0,0,0,0,0,0,0,0,0,0,1,1,0,0,0,0,0,0,0,0],\n",
    "    [0,0,1,0,1,0,0,0,0,0,0,1,0,0,0,0,0,0,1,0,0,0,0,0,0,0,0,0,0,0],\n",
    "    [0,0,0,0,0,1,0,0,0,1,1,0,1,1,0,0,0,0,0,0,0,1,1,1,1,0,0,0,0,0],\n",
    "    [0,0,0,1,0,1,0,0,0,0,0,0,1,0,0,1,0,0,0,0,0,0,0,1,0,1,1,0,0,0],\n",
    "    [0,0,1,1,1,0,0,1,0,0,0,0,0,0,0,0,0,0,1,1,0,0,0,0,0,1,0,0,0,0]\n",
    "]\n",
    "\n",
    "# evaluate random-action agent on expert_board\n",
    "pass"
   ]
  },
  {
   "cell_type": "code",
   "execution_count": null,
   "id": "df08e141-95cc-495f-aeb2-17701aa3452d",
   "metadata": {},
   "outputs": [],
   "source": [
    "# visualize performance of random-action agent on beginner, intermadiate, and expert problem instances\n",
    "pass"
   ]
  },
  {
   "cell_type": "markdown",
   "id": "ec4af6ec-8c69-4ee0-9673-1109fe6729cc",
   "metadata": {},
   "source": [
    "## Exercise 3\n",
    "Implement the necessary code to assess the performance of the `bfs` and `dfs` agents on the `expert` problem instance. Visualize the final game state of both agents and save the performance data for use in a later exercise."
   ]
  },
  {
   "cell_type": "code",
   "execution_count": null,
   "id": "53fe1ac2-02d2-4379-ae01-73532c65983e",
   "metadata": {},
   "outputs": [],
   "source": [
    "# implement exercise 3 code here\n",
    "pass"
   ]
  },
  {
   "cell_type": "markdown",
   "id": "3db4b081-c207-43f4-9272-1f7e50e8283b",
   "metadata": {},
   "source": [
    "## Exercise 4\n",
    "In the following cell, implement the necessary code to perform a neuroevolution search using the `expert_board`. Save the best agent for analysis in a later task. Visualize the final board state of the best agent and print the performance results of all algorithms on the expert-difficulty problem instance (i.e., print the results as in Exercise 1 with an additional column for the new problem instance). "
   ]
  },
  {
   "cell_type": "code",
   "execution_count": null,
   "id": "ed11f01f-b3ff-450b-ba18-7008a574ff56",
   "metadata": {},
   "outputs": [],
   "source": [
    "# implement exercise 4 code here\n",
    "pass"
   ]
  },
  {
   "cell_type": "markdown",
   "id": "a3e3dc25-1afb-4086-bc61-6f5df72d0398",
   "metadata": {},
   "source": [
    "## Exercise 5\n",
    "Assess the best neuroevolution agents for overfitting. We've now performed neuroevolution search using problem instances of three different difficulties and found a best agent during each search. Assess these agents on each problem instance so we can determine how they perform on instances outside those they were trained on. In a separate notebook cell, print the results in a table similar to Exercise 4 where each column corresponds to a problem instance and each row corresponds to an agent trained on a particular problem instance. If we were successful in generating agents that were decent at Minesweeper in general, they should perform well on all problem instances. If we encountered overfitting, then the agents will perform poorly on problem instances not encountered during training.\n",
    "\n",
    "**Note**: you'll likely need to instantiate one or more `MLP` objects to serve as the `network` argument required by `neural_network_agent`. See the internal code of `neuroevolution_search` for an example of this."
   ]
  },
  {
   "cell_type": "code",
   "execution_count": null,
   "id": "09af8a05-52aa-4a56-8b9a-d1ef737978e1",
   "metadata": {},
   "outputs": [],
   "source": [
    "# evaluate neuroevolution agents on individual problem instances\n",
    "pass"
   ]
  },
  {
   "cell_type": "code",
   "execution_count": null,
   "id": "790c41bd-727d-4f6a-8e7b-299fc180456a",
   "metadata": {},
   "outputs": [],
   "source": [
    "# print agent performance results\n",
    "pass"
   ]
  },
  {
   "cell_type": "markdown",
   "id": "07a168dc-5ac2-49e8-94b1-9a0eda49715f",
   "metadata": {},
   "source": [
    "# Assignment 1b Preview\n",
    "Assignment 1b is currently under development, but the current plan is for you to try and *break* a neuroevoltion agent trained by the TA by creating malicious Minesweeper game instances. Neuroevolution will make a return later in Assignment Series 1."
   ]
  },
  {
   "cell_type": "code",
   "execution_count": null,
   "id": "d4ce1f1c-27f4-4ec0-80b5-b9f16dae89e9",
   "metadata": {},
   "outputs": [],
   "source": []
  }
 ],
 "metadata": {
  "kernelspec": {
   "display_name": "Python 3 (ipykernel)",
   "language": "python",
   "name": "python3"
  },
  "language_info": {
   "codemirror_mode": {
    "name": "ipython",
    "version": 3
   },
   "file_extension": ".py",
   "mimetype": "text/x-python",
   "name": "python",
   "nbconvert_exporter": "python",
   "pygments_lexer": "ipython3",
   "version": "3.11.5"
  }
 },
 "nbformat": 4,
 "nbformat_minor": 5
}
